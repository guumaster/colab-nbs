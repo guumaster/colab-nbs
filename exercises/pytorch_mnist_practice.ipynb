{
 "cells": [
  {
   "cell_type": "markdown",
   "metadata": {
    "colab_type": "text",
    "id": "view-in-github"
   },
   "source": [
    "<a href=\"https://colab.research.google.com/github/guumaster/colab-nbs/blob/master/fastai/exercises/pytorch_mnist_practice.ipynb\" target=\"_parent\"><img src=\"https://colab.research.google.com/assets/colab-badge.svg\" alt=\"Open In Colab\"/></a>"
   ]
  },
  {
   "cell_type": "code",
   "execution_count": 10,
   "metadata": {
    "id": "706I6T7gFvFD"
   },
   "outputs": [],
   "source": [
    "from torch import nn, save, load\n",
    "from torch.optim import Adam\n",
    "from torch.utils.data import DataLoader\n",
    "\n",
    "from torchvision import datasets\n",
    "from torchvision.transforms import ToTensor\n",
    "\n",
    "train = datasets.MNIST(root=\"sample_data\", download=True, train=True, transform=ToTensor())\n",
    "\n",
    "dataset = DataLoader(train, 32, shuffle=True)\n"
   ]
  },
  {
   "cell_type": "code",
   "execution_count": 8,
   "metadata": {
    "id": "KkqEDa1zG-cT"
   },
   "outputs": [],
   "source": [
    "class ImageClassifier(nn.Module):\n",
    "  def __init__(self):\n",
    "      super(ImageClassifier, self).__init__()\n",
    "      self.model = nn.Sequential(\n",
    "          nn.Conv2d(1, 32, (3,3)),\n",
    "          nn.ReLU(),\n",
    "          nn.Conv2d(32, 64, (3,3)),\n",
    "          nn.ReLU(),\n",
    "          nn.Conv2d(64, 64, (3,3)),\n",
    "          nn.ReLU(),\n",
    "          nn.Flatten(),\n",
    "          # NOTE: 28-6 related to removed pixels on previous layers. Why?\n",
    "          nn.Linear(64*(28-6)*(28-6), 10)\n",
    "      )\n",
    "\n",
    "  def forward(self, x):\n",
    "    return self.model(x)\n"
   ]
  },
  {
   "cell_type": "code",
   "execution_count": 9,
   "metadata": {
    "id": "QWbuJ15kIKd3"
   },
   "outputs": [],
   "source": [
    "clf = ImageClassifier().to('cuda')\n",
    "\n",
    "opt = Adam(clf.parameters(), lr=1e-3)\n",
    "\n",
    "loss_fn = nn.CrossEntropyLoss()\n"
   ]
  },
  {
   "cell_type": "code",
   "execution_count": null,
   "metadata": {
    "id": "CIQxVt9CI7Vv"
   },
   "outputs": [],
   "source": [
    "for epoch in range(10):\n",
    "  for batch in dataset:\n",
    "    X, y = batch\n",
    "    X, y = X.to('cuda'), y.to('cuda')\n",
    "    yhat = clf(X)\n",
    "    loss = loss_fn(yhat, y)\n",
    "\n",
    "    opt.zero_grad()\n",
    "    loss.backward()\n",
    "    opt.step()\n",
    "\n",
    "  print(f\"Epoch {epoch} loss is {loss.item()}\")\n",
    "\n",
    "with open('model.pt', 'wb') as f:\n",
    "  save(clf.state_dict(), f)\n",
    "\n"
   ]
  },
  {
   "cell_type": "code",
   "execution_count": 20,
   "metadata": {
    "colab": {
     "base_uri": "https://localhost:8080/",
     "height": 45
    },
    "id": "-ozp5ABUL3Sn",
    "outputId": "f8b739a3-8e86-45d2-afdb-f8e94ce139ec"
   },
   "outputs": [
    {
     "data": {
      "image/png": "[encoded data removed]",
      "text/plain": [
       "<PIL.JpegImagePlugin.JpegImageFile image mode=L size=28x28>"
      ]
     },
     "execution_count": 20,
     "metadata": {},
     "output_type": "execute_result"
    }
   ],
   "source": [
    "import requests \n",
    "\n",
    "img_url = \"https://raw.githubusercontent.com/nicknochnack/PyTorchin15/main/img_3.jpg\"\n",
    "img = Image.open(requests.get(img_url, stream = True).raw)\n",
    "img"
   ]
  },
  {
   "cell_type": "code",
   "execution_count": 21,
   "metadata": {
    "colab": {
     "base_uri": "https://localhost:8080/"
    },
    "id": "KI5qbpnwKUJ7",
    "outputId": "7d50a322-a0e9-4396-ed18-7a81b54dec27"
   },
   "outputs": [
    {
     "name": "stdout",
     "output_type": "stream",
     "text": [
      "tensor(9, device='cuda:0')\n"
     ]
    }
   ],
   "source": [
    "import torch\n",
    "from PIL import Image\n",
    "\n",
    "with open('model.pt', 'rb') as f:\n",
    "  clf.load_state_dict(load(f))\n",
    "  img_tensor = ToTensor()(img).unsqueeze(0).to('cuda')\n",
    "\n",
    "  print(torch.argmax(clf(img_tensor)))\n",
    "  "
   ]
  }
 ],
 "metadata": {
  "accelerator": "GPU",
  "colab": {
   "authorship_tag": "ABX9TyMZKrBQPZycYt9+w7bsHKRM",
   "include_colab_link": true,
   "provenance": []
  },
  "gpuClass": "standard",
  "kernelspec": {
   "display_name": "Python 3 (ipykernel)",
   "language": "python",
   "name": "python3"
  },
  "language_info": {
   "codemirror_mode": {
    "name": "ipython",
    "version": 3
   },
   "file_extension": ".py",
   "mimetype": "text/x-python",
   "name": "python",
   "nbconvert_exporter": "python",
   "pygments_lexer": "ipython3",
   "version": "3.9.13"
  }
 },
 "nbformat": 4,
 "nbformat_minor": 4
}
