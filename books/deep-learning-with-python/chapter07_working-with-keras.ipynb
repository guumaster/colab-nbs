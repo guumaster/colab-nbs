{
 "cells": [
  {
   "cell_type": "markdown",
   "id": "bc8c0682-48ba-4343-ae31-3523b3472f70",
   "metadata": {},
   "source": [
    "## Keras Functional API"
   ]
  },
  {
   "cell_type": "markdown",
   "id": "46b4e249-75de-4b89-9817-d487762b6ec7",
   "metadata": {},
   "source": [
    "### Simple API"
   ]
  },
  {
   "cell_type": "code",
   "execution_count": null,
   "id": "411bc322-1ee0-42dc-9102-35f7847c8042",
   "metadata": {},
   "outputs": [],
   "source": [
    "from tensorflow import keras\n",
    "from tensorflow.keras import layers\n"
   ]
  },
  {
   "cell_type": "code",
   "execution_count": null,
   "id": "15bf5297-a94c-48a6-b4c1-88a3fef93457",
   "metadata": {},
   "outputs": [],
   "source": [
    "inputs = keras.Input(shape=(3,), name='my_input')\n",
    "features = layers.Dense(64, activation='relu')(inputs)\n",
    "outputs = layers.Dense(10, activation='softmax')(features)\n",
    "\n",
    "model = keras.Model(inputs=inputs, outputs=outputs)"
   ]
  },
  {
   "cell_type": "code",
   "execution_count": 5,
   "id": "8f9c7914-72ac-4b77-8996-50d614279dba",
   "metadata": {},
   "outputs": [
    {
     "name": "stdout",
     "output_type": "stream",
     "text": [
      "Model: \"model\"\n",
      "_________________________________________________________________\n",
      " Layer (type)                Output Shape              Param #   \n",
      "=================================================================\n",
      " my_input (InputLayer)       [(None, 3)]               0         \n",
      "                                                                 \n",
      " dense (Dense)               (None, 64)                256       \n",
      "                                                                 \n",
      " dense_1 (Dense)             (None, 10)                650       \n",
      "                                                                 \n",
      "=================================================================\n",
      "Total params: 906\n",
      "Trainable params: 906\n",
      "Non-trainable params: 0\n",
      "_________________________________________________________________\n"
     ]
    }
   ],
   "source": [
    "model.summary()"
   ]
  },
  {
   "cell_type": "markdown",
   "id": "fbc03c8b-06c8-4834-bb85-a209e1e67dbe",
   "metadata": {},
   "source": [
    "### Multi-input and Multi-output"
   ]
  },
  {
   "cell_type": "code",
   "execution_count": null,
   "id": "54021ab2-5ee4-4f08-8515-87c313accb93",
   "metadata": {},
   "outputs": [],
   "source": [
    "vocabulary_size = 10000\n",
    "num_tags = 100\n",
    "num_departments = 4\n",
    "\n",
    "title = keras.Input(shape=(vocabulary_size,), name='title')\n",
    "text_body = keras.Input(shape=(vocabulary_size,), name='text_body')\n",
    "tags = keras.Input(shape=(num_tags,), name='tags')\n",
    "\n",
    "features = layers.Concatenate()([title, text_body, tags])\n",
    "features = layers.Dense(64, activation='relu')(features)\n",
    "\n",
    "priority = layers.Dense(1, activation='sigmoid', name='priority')(features)\n",
    "department = layers.Dense(num_departments, activation='softmax', name='department')(features)\n",
    "\n",
    "\n",
    "model = keras.Model(inputs=[title, text_body, tags], outputs=[priority, department])"
   ]
  },
  {
   "cell_type": "code",
   "execution_count": 4,
   "id": "ce6ff86c-0a11-484a-aab6-cc2ed3e750cf",
   "metadata": {},
   "outputs": [],
   "source": [
    "import numpy as np\n",
    "\n",
    "num_samples = 1280\n",
    "\n",
    "title_data = np.random.randint(0, 2, size=(num_samples, vocabulary_size))\n",
    "text_body_data = np.random.randint(0, 2, size=(num_samples, vocabulary_size))\n",
    "tags_data = np.random.randint(0, 2, size=(num_samples, num_tags))\n",
    "\n",
    "\n",
    "priority_data = np.random.random(size=(num_samples, 1))\n",
    "department_data = np.random.randint(0, 2, size=(num_samples, num_departments))\n",
    "\n",
    "model.compile(optimizer='rmsprop', \n",
    "              loss=['mean_squared_error', 'categorical_crossentropy'], \n",
    "              metrics=['mean_absolute_error', 'accuracy'])\n"
   ]
  },
  {
   "cell_type": "code",
   "execution_count": 5,
   "id": "c8d5fe9a-ce7d-4f01-9e62-7784df208779",
   "metadata": {},
   "outputs": [
    {
     "name": "stdout",
     "output_type": "stream",
     "text": [
      "40/40 [==============================] - 2s 11ms/step - loss: 25.7848 - priority_loss: 0.3206 - department_loss: 25.4642 - priority_mean_absolute_error: 0.4873 - priority_accuracy: 0.0000e+00 - department_mean_absolute_error: 0.5058 - department_accuracy: 0.2562\n"
     ]
    },
    {
     "data": {
      "text/plain": [
       "<keras.callbacks.History at 0x7efc8e1ca9a0>"
      ]
     },
     "execution_count": 5,
     "metadata": {},
     "output_type": "execute_result"
    }
   ],
   "source": [
    "model.fit([title_data, text_body_data, tags_data],\n",
    "          [priority_data, department_data],\n",
    "          epochs=1)"
   ]
  },
  {
   "cell_type": "code",
   "execution_count": 6,
   "id": "2d4f37c3-ba88-4a21-9b5c-e5370cf7492a",
   "metadata": {},
   "outputs": [
    {
     "name": "stdout",
     "output_type": "stream",
     "text": [
      "40/40 [==============================] - 1s 9ms/step - loss: 11.0961 - priority_loss: 0.3322 - department_loss: 10.7639 - priority_mean_absolute_error: 0.4991 - priority_accuracy: 0.0000e+00 - department_mean_absolute_error: 0.4859 - department_accuracy: 0.2508\n",
      "40/40 [==============================] - 0s 3ms/step\n"
     ]
    }
   ],
   "source": [
    "model.evaluate([title_data, text_body_data, tags_data],\n",
    "               [priority_data, department_data])\n",
    "priority_preds, department_preds = model.predict([title_data, text_body_data, tags_data])"
   ]
  },
  {
   "cell_type": "markdown",
   "id": "9eafb774-c75b-4ef8-91e4-79e956a69f63",
   "metadata": {},
   "source": [
    "#### Using dict inputs"
   ]
  },
  {
   "cell_type": "code",
   "execution_count": 7,
   "id": "5a5fc27b-66f4-485f-b5c2-2cceded127b3",
   "metadata": {},
   "outputs": [
    {
     "name": "stdout",
     "output_type": "stream",
     "text": [
      "40/40 [==============================] - 1s 11ms/step - loss: 27.3710 - priority_loss: 0.3322 - department_loss: 27.0388 - priority_mean_absolute_error: 0.4991 - department_accuracy: 0.2414\n",
      "40/40 [==============================] - 1s 8ms/step - loss: 22.0654 - priority_loss: 0.3322 - department_loss: 21.7333 - priority_mean_absolute_error: 0.4991 - department_accuracy: 0.0523\n",
      "40/40 [==============================] - 0s 5ms/step\n"
     ]
    }
   ],
   "source": [
    "model.compile(optimizer=\"rmsprop\",\n",
    "              loss={\"priority\": \"mean_squared_error\", \"department\": \"categorical_crossentropy\"},\n",
    "              metrics={\"priority\": [\"mean_absolute_error\"], \"department\": [\"accuracy\"]})\n",
    "model.fit({\"title\": title_data, \"text_body\": text_body_data, \"tags\": tags_data},\n",
    "          {\"priority\": priority_data, \"department\": department_data},\n",
    "          epochs=1)\n",
    "model.evaluate({\"title\": title_data, \"text_body\": text_body_data, \"tags\": tags_data},\n",
    "               {\"priority\": priority_data, \"department\": department_data})\n",
    "priority_preds, department_preds = model.predict(\n",
    "    {\"title\": title_data, \"text_body\": text_body_data, \"tags\": tags_data})"
   ]
  },
  {
   "cell_type": "code",
   "execution_count": 8,
   "id": "879e789f-193f-4152-b4cc-0c9c25d1907d",
   "metadata": {},
   "outputs": [
    {
     "data": {
      "image/png": "[encoded data removed]",
      "text/plain": [
       "<IPython.core.display.Image object>"
      ]
     },
     "execution_count": 8,
     "metadata": {},
     "output_type": "execute_result"
    }
   ],
   "source": [
    "keras.utils.plot_model(model, \"ticket_classifier.png\")"
   ]
  },
  {
   "cell_type": "code",
   "execution_count": 21,
   "id": "411050fb-bf02-4bcd-a0ca-a61826dc5ad9",
   "metadata": {},
   "outputs": [
    {
     "name": "stdout",
     "output_type": "stream",
     "text": [
      "Collecting graphviz\n",
      "  Downloading graphviz-0.20.1-py3-none-any.whl (47 kB)\n",
      "\u001b[2K     \u001b[90m━━━━━━━━━━━━━━━━━━━━━━━━━━━━━━━━━━━━━━━━\u001b[0m \u001b[32m47.0/47.0 kB\u001b[0m \u001b[31m2.5 MB/s\u001b[0m eta \u001b[36m0:00:00\u001b[0m\n",
      "\u001b[?25hInstalling collected packages: graphviz\n",
      "Successfully installed graphviz-0.20.1\n"
     ]
    }
   ],
   "source": [
    "!pip install graphviz "
   ]
  }
 ],
 "metadata": {
  "kernelspec": {
   "display_name": "Python 3 (ipykernel)",
   "language": "python",
   "name": "python3"
  },
  "language_info": {
   "codemirror_mode": {
    "name": "ipython",
    "version": 3
   },
   "file_extension": ".py",
   "mimetype": "text/x-python",
   "name": "python",
   "nbconvert_exporter": "python",
   "pygments_lexer": "ipython3",
   "version": "3.9.13"
  }
 },
 "nbformat": 4,
 "nbformat_minor": 5
}
