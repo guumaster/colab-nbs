{
 "cells": [
  {
   "cell_type": "markdown",
   "metadata": {
    "colab_type": "text",
    "id": "view-in-github"
   },
   "source": [
    "<a href=\"https://colab.research.google.com/github/guumaster/colab-nbs/blob/master/books/deep-learning-with-python/chapter03_introduction-to-keras-and-tf.ipynb\" target=\"_parent\"><img src=\"https://colab.research.google.com/assets/colab-badge.svg\" alt=\"Open In Colab\"/></a>"
   ]
  },
  {
   "cell_type": "markdown",
   "metadata": {
    "id": "vqU0vJJbIIIB"
   },
   "source": [
    "This is a companion notebook for the book [Deep Learning with Python, Second Edition](https://www.manning.com/books/deep-learning-with-python-second-edition?a_aid=keras&a_bid=76564dff). For readability, it only contains runnable code blocks and section titles, and omits everything else in the book: text paragraphs, figures, and pseudocode.\n",
    "\n",
    "**If you want to be able to follow what's going on, I recommend reading the notebook side by side with your copy of the book.**\n",
    "\n",
    "This notebook was generated for TensorFlow 2.6."
   ]
  },
  {
   "cell_type": "markdown",
   "metadata": {
    "id": "NlKNcOXIIIIF"
   },
   "source": [
    "# Introduction to Keras and TensorFlow"
   ]
  },
  {
   "cell_type": "markdown",
   "metadata": {
    "id": "GGIisG-gIIIF"
   },
   "source": [
    "## What's TensorFlow?"
   ]
  },
  {
   "cell_type": "markdown",
   "metadata": {
    "id": "zqINd8zgIIIF"
   },
   "source": [
    "## What's Keras?"
   ]
  },
  {
   "cell_type": "markdown",
   "metadata": {
    "id": "yJcFgHe8IIIG"
   },
   "source": [
    "## Keras and TensorFlow: A brief history"
   ]
  },
  {
   "cell_type": "markdown",
   "metadata": {
    "id": "kW0AVUKxIIIG"
   },
   "source": [
    "## Setting up a deep-learning workspace"
   ]
  },
  {
   "cell_type": "markdown",
   "metadata": {
    "id": "5i6uVR4sIIIG"
   },
   "source": [
    "### Jupyter notebooks: The preferred way to run deep-learning experiments"
   ]
  },
  {
   "cell_type": "markdown",
   "metadata": {
    "id": "rNiBjkYTIIIH"
   },
   "source": [
    "### Using Colaboratory"
   ]
  },
  {
   "cell_type": "markdown",
   "metadata": {
    "id": "4u28OfwqIIII"
   },
   "source": [
    "#### First steps with Colaboratory"
   ]
  },
  {
   "cell_type": "markdown",
   "metadata": {
    "id": "nv6zJEYOIIII"
   },
   "source": [
    "#### Installing packages with pip"
   ]
  },
  {
   "cell_type": "markdown",
   "metadata": {
    "id": "44k_cmmQIIIJ"
   },
   "source": [
    "#### Using the GPU runtime"
   ]
  },
  {
   "cell_type": "markdown",
   "metadata": {
    "id": "tPMUxnjKIIIJ"
   },
   "source": [
    "## First steps with TensorFlow"
   ]
  },
  {
   "cell_type": "markdown",
   "metadata": {
    "id": "-blDvrzZIIIJ"
   },
   "source": [
    "#### Constant tensors and variables"
   ]
  },
  {
   "cell_type": "markdown",
   "metadata": {
    "id": "LpcVom9VIIIK"
   },
   "source": [
    "**All-ones or all-zeros tensors**"
   ]
  },
  {
   "cell_type": "code",
   "execution_count": 1,
   "metadata": {
    "colab": {
     "base_uri": "https://localhost:8080/"
    },
    "id": "bUIpnsUZIIIK",
    "outputId": "eb35ddd1-d4e3-42af-da52-55d4e464a6e3"
   },
   "outputs": [
    {
     "name": "stdout",
     "output_type": "stream",
     "text": [
      "tf.Tensor(\n",
      "[[1.]\n",
      " [1.]], shape=(2, 1), dtype=float32)\n"
     ]
    }
   ],
   "source": [
    "import tensorflow as tf\n",
    "x = tf.ones(shape=(2, 1))\n",
    "print(x)"
   ]
  },
  {
   "cell_type": "code",
   "execution_count": 2,
   "metadata": {
    "colab": {
     "base_uri": "https://localhost:8080/"
    },
    "id": "T7IBQHi-IIIL",
    "outputId": "2dc44747-22e4-4cd0-b2af-51194da25349"
   },
   "outputs": [
    {
     "name": "stdout",
     "output_type": "stream",
     "text": [
      "tf.Tensor(\n",
      "[[0.]\n",
      " [0.]], shape=(2, 1), dtype=float32)\n"
     ]
    }
   ],
   "source": [
    "x = tf.zeros(shape=(2, 1))\n",
    "print(x)"
   ]
  },
  {
   "cell_type": "markdown",
   "metadata": {
    "id": "crv2n_EKIIIL"
   },
   "source": [
    "**Random tensors**"
   ]
  },
  {
   "cell_type": "code",
   "execution_count": 5,
   "metadata": {
    "colab": {
     "base_uri": "https://localhost:8080/"
    },
    "id": "mx-1nFbmIIIM",
    "outputId": "ae456b56-0cf6-43e4-90eb-39cc5c6b9029"
   },
   "outputs": [
    {
     "name": "stdout",
     "output_type": "stream",
     "text": [
      "tf.Tensor(\n",
      "[[-1.7546741]\n",
      " [ 1.6853006]\n",
      " [ 1.3082972]], shape=(3, 1), dtype=float32)\n"
     ]
    }
   ],
   "source": [
    "x = tf.random.normal(shape=(3, 1), mean=0., stddev=1.)\n",
    "print(x)"
   ]
  },
  {
   "cell_type": "code",
   "execution_count": 6,
   "metadata": {
    "colab": {
     "base_uri": "https://localhost:8080/"
    },
    "id": "labcevrkIIIM",
    "outputId": "67ec92e5-72ca-4cbd-ea81-473a8aeb1d02"
   },
   "outputs": [
    {
     "name": "stdout",
     "output_type": "stream",
     "text": [
      "tf.Tensor(\n",
      "[[0.16987407]\n",
      " [0.14554465]\n",
      " [0.69800794]], shape=(3, 1), dtype=float32)\n"
     ]
    }
   ],
   "source": [
    "x = tf.random.uniform(shape=(3, 1), minval=0., maxval=1.)\n",
    "print(x)"
   ]
  },
  {
   "cell_type": "markdown",
   "metadata": {
    "id": "S_pOvlevIIIM"
   },
   "source": [
    "**NumPy arrays are assignable**"
   ]
  },
  {
   "cell_type": "code",
   "execution_count": 7,
   "metadata": {
    "id": "J0tt5SyaIIIN"
   },
   "outputs": [],
   "source": [
    "import numpy as np\n",
    "x = np.ones(shape=(2, 2))\n",
    "x[0, 0] = 0."
   ]
  },
  {
   "cell_type": "markdown",
   "metadata": {
    "id": "s7bKTBtjIIIN"
   },
   "source": [
    "**Creating a TensorFlow variable**"
   ]
  },
  {
   "cell_type": "code",
   "execution_count": 8,
   "metadata": {
    "colab": {
     "base_uri": "https://localhost:8080/"
    },
    "id": "8LQyDdsqIIIN",
    "outputId": "2857492e-39a2-42a8-fb33-e536b0505372"
   },
   "outputs": [
    {
     "name": "stdout",
     "output_type": "stream",
     "text": [
      "<tf.Variable 'Variable:0' shape=(3, 1) dtype=float32, numpy=\n",
      "array([[-1.8027043],\n",
      "       [ 0.9337512],\n",
      "       [ 0.4732945]], dtype=float32)>\n"
     ]
    }
   ],
   "source": [
    "v = tf.Variable(initial_value=tf.random.normal(shape=(3, 1)))\n",
    "print(v)"
   ]
  },
  {
   "cell_type": "markdown",
   "metadata": {
    "id": "_-dMqQX1IIIN"
   },
   "source": [
    "**Assigning a value to a TensorFlow variable**"
   ]
  },
  {
   "cell_type": "code",
   "execution_count": 9,
   "metadata": {
    "colab": {
     "base_uri": "https://localhost:8080/"
    },
    "id": "3g_XDyJsIIIO",
    "outputId": "558a6b70-7804-4cbc-fa00-c5d0b5b7d5c6"
   },
   "outputs": [
    {
     "data": {
      "text/plain": [
       "<tf.Variable 'UnreadVariable' shape=(3, 1) dtype=float32, numpy=\n",
       "array([[1.],\n",
       "       [1.],\n",
       "       [1.]], dtype=float32)>"
      ]
     },
     "execution_count": 9,
     "metadata": {},
     "output_type": "execute_result"
    }
   ],
   "source": [
    "v.assign(tf.ones((3, 1)))"
   ]
  },
  {
   "cell_type": "markdown",
   "metadata": {
    "id": "ekxnYzEyIIIO"
   },
   "source": [
    "**Assigning a value to a subset of a TensorFlow variable**"
   ]
  },
  {
   "cell_type": "code",
   "execution_count": 11,
   "metadata": {
    "colab": {
     "base_uri": "https://localhost:8080/"
    },
    "id": "SEj8VDfhIIIO",
    "outputId": "7371cc2b-4944-4bf9-a0a8-bd080f7e415a"
   },
   "outputs": [
    {
     "data": {
      "text/plain": [
       "<tf.Variable 'UnreadVariable' shape=(3, 1) dtype=float32, numpy=\n",
       "array([[3.],\n",
       "       [1.],\n",
       "       [1.]], dtype=float32)>"
      ]
     },
     "execution_count": 11,
     "metadata": {},
     "output_type": "execute_result"
    }
   ],
   "source": [
    "v[0, 0].assign(3.)"
   ]
  },
  {
   "cell_type": "markdown",
   "metadata": {
    "id": "19cPkNRVIIIO"
   },
   "source": [
    "**Using `assign_add`**"
   ]
  },
  {
   "cell_type": "code",
   "execution_count": 13,
   "metadata": {
    "colab": {
     "base_uri": "https://localhost:8080/"
    },
    "id": "EkSNQG7xIIIO",
    "outputId": "7a3728d2-067a-415a-c101-fbf62a3eec58"
   },
   "outputs": [
    {
     "data": {
      "text/plain": [
       "<tf.Variable 'UnreadVariable' shape=(3, 1) dtype=float32, numpy=\n",
       "array([[5.],\n",
       "       [3.],\n",
       "       [3.]], dtype=float32)>"
      ]
     },
     "execution_count": 13,
     "metadata": {},
     "output_type": "execute_result"
    }
   ],
   "source": [
    "v.assign_add(tf.ones((3, 1)))"
   ]
  },
  {
   "cell_type": "markdown",
   "metadata": {
    "id": "ntD4rypCIIIP"
   },
   "source": [
    "#### Tensor operations: Doing math in TensorFlow"
   ]
  },
  {
   "cell_type": "markdown",
   "metadata": {
    "id": "5LVBUnydIIIP"
   },
   "source": [
    "**A few basic math operations**"
   ]
  },
  {
   "cell_type": "code",
   "execution_count": 14,
   "metadata": {
    "id": "BnVg8N61IIIP"
   },
   "outputs": [],
   "source": [
    "a = tf.ones((2, 2))\n",
    "b = tf.square(a)\n",
    "c = tf.sqrt(a)\n",
    "d = b + c\n",
    "e = tf.matmul(a, b)\n",
    "e *= d"
   ]
  },
  {
   "cell_type": "code",
   "execution_count": 23,
   "metadata": {
    "colab": {
     "base_uri": "https://localhost:8080/"
    },
    "id": "Az5UI-MbLqR6",
    "outputId": "f97fd522-bb44-4946-d390-8d9316468619"
   },
   "outputs": [
    {
     "data": {
      "text/plain": [
       "array([[1., 1.],\n",
       "       [1., 1.]], dtype=float32)"
      ]
     },
     "execution_count": 23,
     "metadata": {},
     "output_type": "execute_result"
    }
   ],
   "source": [
    "c.numpy()"
   ]
  },
  {
   "cell_type": "markdown",
   "metadata": {
    "id": "frqOAAxBIIIQ"
   },
   "source": [
    "#### A second look at the GradientTape API"
   ]
  },
  {
   "cell_type": "markdown",
   "metadata": {
    "id": "R9092NLRIIIQ"
   },
   "source": [
    "**Using the `GradientTape`**"
   ]
  },
  {
   "cell_type": "code",
   "execution_count": 24,
   "metadata": {
    "id": "bkw_hXhsIIIQ"
   },
   "outputs": [],
   "source": [
    "input_var = tf.Variable(initial_value=3.)\n",
    "with tf.GradientTape() as tape:\n",
    "   result = tf.square(input_var)\n",
    "gradient = tape.gradient(result, input_var)"
   ]
  },
  {
   "cell_type": "code",
   "execution_count": 25,
   "metadata": {
    "colab": {
     "base_uri": "https://localhost:8080/"
    },
    "id": "zQOXCcSaN3OW",
    "outputId": "161bc994-fec1-4fc6-9175-b50b5b8f52db"
   },
   "outputs": [
    {
     "data": {
      "text/plain": [
       "<tf.Tensor: shape=(), dtype=float32, numpy=6.0>"
      ]
     },
     "execution_count": 25,
     "metadata": {},
     "output_type": "execute_result"
    }
   ],
   "source": [
    "gradient"
   ]
  },
  {
   "cell_type": "markdown",
   "metadata": {
    "id": "YbPbQGQlIIIQ"
   },
   "source": [
    "**Using `GradientTape` with constant tensor inputs**"
   ]
  },
  {
   "cell_type": "code",
   "execution_count": null,
   "metadata": {
    "id": "te-lN0wHIIIQ"
   },
   "outputs": [],
   "source": [
    "input_const = tf.constant(3.)\n",
    "with tf.GradientTape() as tape:\n",
    "   tape.watch(input_const)\n",
    "   result = tf.square(input_const)\n",
    "gradient = tape.gradient(result, input_const)"
   ]
  },
  {
   "cell_type": "markdown",
   "metadata": {
    "id": "lX7Y12IbIIIR"
   },
   "source": [
    "**Using nested gradient tapes to compute second-order gradients**"
   ]
  },
  {
   "cell_type": "code",
   "execution_count": null,
   "metadata": {
    "id": "8k8uUsUGIIIR"
   },
   "outputs": [],
   "source": [
    "time = tf.Variable(0.)\n",
    "with tf.GradientTape() as outer_tape:\n",
    "    with tf.GradientTape() as inner_tape:\n",
    "        position =  4.9 * time ** 2\n",
    "    speed = inner_tape.gradient(position, time)\n",
    "acceleration = outer_tape.gradient(speed, time)"
   ]
  },
  {
   "cell_type": "markdown",
   "metadata": {
    "id": "AgGgTW2tIIIR"
   },
   "source": [
    "#### An end-to-end example: A linear classifier in pure TensorFlow"
   ]
  },
  {
   "cell_type": "markdown",
   "metadata": {
    "id": "lwWet8IiIIIR"
   },
   "source": [
    "**Generating two classes of random points in a 2D plane**"
   ]
  },
  {
   "cell_type": "code",
   "execution_count": 26,
   "metadata": {
    "id": "9_eIA9P_IIIS"
   },
   "outputs": [],
   "source": [
    "num_samples_per_class = 1000\n",
    "negative_samples = np.random.multivariate_normal(\n",
    "    mean=[0, 3],\n",
    "    cov=[[1, 0.5],[0.5, 1]],\n",
    "    size=num_samples_per_class)\n",
    "positive_samples = np.random.multivariate_normal(\n",
    "    mean=[3, 0],\n",
    "    cov=[[1, 0.5],[0.5, 1]],\n",
    "    size=num_samples_per_class)"
   ]
  },
  {
   "cell_type": "markdown",
   "metadata": {
    "id": "hCYrELJhIIIS"
   },
   "source": [
    "**Stacking the two classes into an array with shape (2000, 2)**"
   ]
  },
  {
   "cell_type": "code",
   "execution_count": 27,
   "metadata": {
    "id": "fIUCt6J1IIIS"
   },
   "outputs": [],
   "source": [
    "inputs = np.vstack((negative_samples, positive_samples)).astype(np.float32)"
   ]
  },
  {
   "cell_type": "markdown",
   "metadata": {
    "id": "rFBlWehBIIIS"
   },
   "source": [
    "**Generating the corresponding targets (0 and 1)**"
   ]
  },
  {
   "cell_type": "code",
   "execution_count": 28,
   "metadata": {
    "id": "z__vV5qzIIIS"
   },
   "outputs": [],
   "source": [
    "targets = np.vstack((np.zeros((num_samples_per_class, 1), dtype=\"float32\"),\n",
    "                     np.ones((num_samples_per_class, 1), dtype=\"float32\")))"
   ]
  },
  {
   "cell_type": "markdown",
   "metadata": {
    "id": "V7alH9XaIIIT"
   },
   "source": [
    "**Plotting the two point classes**"
   ]
  },
  {
   "cell_type": "code",
   "execution_count": 29,
   "metadata": {
    "colab": {
     "base_uri": "https://localhost:8080/",
     "height": 265
    },
    "id": "s1FSlcVJIIIT",
    "outputId": "eb1e2d3a-8170-4948-93df-ede5c058e894"
   },
   "outputs": [
    {
     "data": {
      "image/png": "[encoded data removed]",
      "text/plain": [
       "<Figure size 432x288 with 1 Axes>"
      ]
     },
     "metadata": {
      "needs_background": "light"
     },
     "output_type": "display_data"
    }
   ],
   "source": [
    "import matplotlib.pyplot as plt\n",
    "plt.scatter(inputs[:, 0], inputs[:, 1], c=targets[:, 0])\n",
    "plt.show()"
   ]
  },
  {
   "cell_type": "markdown",
   "metadata": {
    "id": "hWKhDcTOIIIT"
   },
   "source": [
    "**Creating the linear classifier variables**"
   ]
  },
  {
   "cell_type": "code",
   "execution_count": 30,
   "metadata": {
    "id": "aLVI5zU_IIIT"
   },
   "outputs": [],
   "source": [
    "input_dim = 2\n",
    "output_dim = 1\n",
    "W = tf.Variable(initial_value=tf.random.uniform(shape=(input_dim, output_dim)))\n",
    "b = tf.Variable(initial_value=tf.zeros(shape=(output_dim,)))"
   ]
  },
  {
   "cell_type": "markdown",
   "metadata": {
    "id": "POWXxznaIIIU"
   },
   "source": [
    "**The forward pass function**"
   ]
  },
  {
   "cell_type": "code",
   "execution_count": 31,
   "metadata": {
    "id": "e-Luj4dIIIIU"
   },
   "outputs": [],
   "source": [
    "def model(inputs):\n",
    "    return tf.matmul(inputs, W) + b"
   ]
  },
  {
   "cell_type": "markdown",
   "metadata": {
    "id": "gnTQVqShIIIU"
   },
   "source": [
    "**The mean squared error loss function**"
   ]
  },
  {
   "cell_type": "code",
   "execution_count": 32,
   "metadata": {
    "id": "vEHwa2aTIIIU"
   },
   "outputs": [],
   "source": [
    "def square_loss(targets, predictions):\n",
    "    per_sample_losses = tf.square(targets - predictions)\n",
    "    return tf.reduce_mean(per_sample_losses)"
   ]
  },
  {
   "cell_type": "markdown",
   "metadata": {
    "id": "3fyZNVIFIIIU"
   },
   "source": [
    "**The training step function**"
   ]
  },
  {
   "cell_type": "code",
   "execution_count": 33,
   "metadata": {
    "id": "qWqjoS7bIIIV"
   },
   "outputs": [],
   "source": [
    "learning_rate = 0.1\n",
    "\n",
    "def training_step(inputs, targets):\n",
    "    with tf.GradientTape() as tape:\n",
    "        predictions = model(inputs)\n",
    "        loss = square_loss(targets, predictions)\n",
    "    grad_loss_wrt_W, grad_loss_wrt_b = tape.gradient(loss, [W, b])\n",
    "    W.assign_sub(grad_loss_wrt_W * learning_rate)\n",
    "    b.assign_sub(grad_loss_wrt_b * learning_rate)\n",
    "    return loss"
   ]
  },
  {
   "cell_type": "markdown",
   "metadata": {
    "id": "uE4WRdjUIIIV"
   },
   "source": [
    "**The batch training loop**"
   ]
  },
  {
   "cell_type": "code",
   "execution_count": 35,
   "metadata": {
    "colab": {
     "base_uri": "https://localhost:8080/"
    },
    "id": "BjTBMBF0IIIV",
    "outputId": "4d3c7803-4a73-4d3d-959f-2d449deb8214"
   },
   "outputs": [
    {
     "name": "stdout",
     "output_type": "stream",
     "text": [
      "Loss at step 0: 0.0268\n",
      "Loss at step 1: 0.0266\n",
      "Loss at step 2: 0.0264\n",
      "Loss at step 3: 0.0262\n",
      "Loss at step 4: 0.0260\n",
      "Loss at step 5: 0.0258\n",
      "Loss at step 6: 0.0257\n",
      "Loss at step 7: 0.0256\n",
      "Loss at step 8: 0.0254\n",
      "Loss at step 9: 0.0253\n",
      "Loss at step 10: 0.0252\n",
      "Loss at step 11: 0.0251\n",
      "Loss at step 12: 0.0250\n",
      "Loss at step 13: 0.0250\n",
      "Loss at step 14: 0.0249\n",
      "Loss at step 15: 0.0248\n",
      "Loss at step 16: 0.0248\n",
      "Loss at step 17: 0.0247\n",
      "Loss at step 18: 0.0247\n",
      "Loss at step 19: 0.0246\n",
      "Loss at step 20: 0.0246\n",
      "Loss at step 21: 0.0245\n",
      "Loss at step 22: 0.0245\n",
      "Loss at step 23: 0.0245\n",
      "Loss at step 24: 0.0244\n",
      "Loss at step 25: 0.0244\n",
      "Loss at step 26: 0.0244\n",
      "Loss at step 27: 0.0243\n",
      "Loss at step 28: 0.0243\n",
      "Loss at step 29: 0.0243\n",
      "Loss at step 30: 0.0243\n",
      "Loss at step 31: 0.0243\n",
      "Loss at step 32: 0.0242\n",
      "Loss at step 33: 0.0242\n",
      "Loss at step 34: 0.0242\n",
      "Loss at step 35: 0.0242\n",
      "Loss at step 36: 0.0242\n",
      "Loss at step 37: 0.0242\n",
      "Loss at step 38: 0.0242\n",
      "Loss at step 39: 0.0242\n"
     ]
    }
   ],
   "source": [
    "for step in range(40):\n",
    "    loss = training_step(inputs, targets)\n",
    "    print(f\"Loss at step {step}: {loss:.4f}\")"
   ]
  },
  {
   "cell_type": "code",
   "execution_count": 36,
   "metadata": {
    "colab": {
     "base_uri": "https://localhost:8080/",
     "height": 265
    },
    "id": "wVEBxIBYIIIV",
    "outputId": "a9946d96-1441-43ff-9c46-fff5395b8b36"
   },
   "outputs": [
    {
     "data": {
      "image/png": "[encoded data removed]",
      "text/plain": [
       "<Figure size 432x288 with 1 Axes>"
      ]
     },
     "metadata": {
      "needs_background": "light"
     },
     "output_type": "display_data"
    }
   ],
   "source": [
    "predictions = model(inputs)\n",
    "plt.scatter(inputs[:, 0], inputs[:, 1], c=predictions[:, 0] > 0.5)\n",
    "plt.show()"
   ]
  },
  {
   "cell_type": "code",
   "execution_count": 37,
   "metadata": {
    "colab": {
     "base_uri": "https://localhost:8080/",
     "height": 282
    },
    "id": "BPTla_i9IIIW",
    "outputId": "beecb765-c5ec-4037-b673-ca1d1453aade"
   },
   "outputs": [
    {
     "data": {
      "text/plain": [
       "<matplotlib.collections.PathCollection at 0x7fb615b77290>"
      ]
     },
     "execution_count": 37,
     "metadata": {},
     "output_type": "execute_result"
    },
    {
     "data": {
      "image/png": "[encoded data removed]",
      "text/plain": [
       "<Figure size 432x288 with 1 Axes>"
      ]
     },
     "metadata": {
      "needs_background": "light"
     },
     "output_type": "display_data"
    }
   ],
   "source": [
    "x = np.linspace(-1, 4, 100)\n",
    "y = - W[0] /  W[1] * x + (0.5 - b) / W[1]\n",
    "plt.plot(x, y, \"-r\")\n",
    "plt.scatter(inputs[:, 0], inputs[:, 1], c=predictions[:, 0] > 0.5)"
   ]
  },
  {
   "cell_type": "markdown",
   "metadata": {
    "id": "Adrq-NayIIIW"
   },
   "source": [
    "## Anatomy of a neural network: Understanding core Keras APIs"
   ]
  },
  {
   "cell_type": "markdown",
   "metadata": {
    "id": "2aYiY7JxIIIW"
   },
   "source": [
    "### Layers: The building blocks of deep learning"
   ]
  },
  {
   "cell_type": "markdown",
   "metadata": {
    "id": "eCzB0Br3IIIW"
   },
   "source": [
    "#### The base Layer class in Keras"
   ]
  },
  {
   "cell_type": "markdown",
   "metadata": {
    "id": "CRLFGxJrIIIW"
   },
   "source": [
    "**A `Dense` layer implemented as a `Layer` subclass**"
   ]
  },
  {
   "cell_type": "code",
   "execution_count": null,
   "metadata": {
    "id": "H1t5ynczIIIW"
   },
   "outputs": [],
   "source": [
    "from tensorflow import keras\n",
    "\n",
    "class SimpleDense(keras.layers.Layer):\n",
    "\n",
    "    def __init__(self, units, activation=None):\n",
    "        super().__init__()\n",
    "        self.units = units\n",
    "        self.activation = activation\n",
    "\n",
    "    def build(self, input_shape):\n",
    "        input_dim = input_shape[-1]\n",
    "        self.W = self.add_weight(shape=(input_dim, self.units),\n",
    "                                 initializer=\"random_normal\")\n",
    "        self.b = self.add_weight(shape=(self.units,),\n",
    "                                 initializer=\"zeros\")\n",
    "\n",
    "    def call(self, inputs):\n",
    "        y = tf.matmul(inputs, self.W) + self.b\n",
    "        if self.activation is not None:\n",
    "            y = self.activation(y)\n",
    "        return y"
   ]
  },
  {
   "cell_type": "code",
   "execution_count": null,
   "metadata": {
    "id": "EdpIyJQQIIIX"
   },
   "outputs": [],
   "source": [
    "my_dense = SimpleDense(units=32, activation=tf.nn.relu)\n",
    "input_tensor = tf.ones(shape=(2, 784))\n",
    "output_tensor = my_dense(input_tensor)\n",
    "print(output_tensor.shape)"
   ]
  },
  {
   "cell_type": "markdown",
   "metadata": {
    "id": "ajNTUcEMIIIX"
   },
   "source": [
    "#### Automatic shape inference: Building layers on the fly"
   ]
  },
  {
   "cell_type": "code",
   "execution_count": 41,
   "metadata": {
    "id": "Rh3f2EWpIIIX"
   },
   "outputs": [],
   "source": [
    "import keras\n",
    "from tensorflow.keras import layers\n",
    "layer = layers.Dense(32, activation=\"relu\")"
   ]
  },
  {
   "cell_type": "code",
   "execution_count": 39,
   "metadata": {
    "id": "_O3I5dZTIIIY"
   },
   "outputs": [],
   "source": [
    "from tensorflow.keras import models\n",
    "from tensorflow.keras import layers\n",
    "model = models.Sequential([\n",
    "    layers.Dense(32, activation=\"relu\"),\n",
    "    layers.Dense(32)\n",
    "])"
   ]
  },
  {
   "cell_type": "code",
   "execution_count": null,
   "metadata": {
    "id": "ZOZQQKxHIIIY"
   },
   "outputs": [],
   "source": [
    "model = keras.Sequential([\n",
    "    SimpleDense(32, activation=\"relu\"),\n",
    "    SimpleDense(64, activation=\"relu\"),\n",
    "    SimpleDense(32, activation=\"relu\"),\n",
    "    SimpleDense(10, activation=\"softmax\")\n",
    "])"
   ]
  },
  {
   "cell_type": "markdown",
   "metadata": {
    "id": "qXSHp3LTIIIY"
   },
   "source": [
    "### From layers to models"
   ]
  },
  {
   "cell_type": "markdown",
   "metadata": {
    "id": "hQ0YSmv3IIIY"
   },
   "source": [
    "### The \"compile\" step: Configuring the learning process"
   ]
  },
  {
   "cell_type": "code",
   "execution_count": 43,
   "metadata": {
    "id": "PUgDExFBIIIY"
   },
   "outputs": [],
   "source": [
    "model = keras.Sequential([keras.layers.Dense(1)])\n",
    "model.compile(optimizer=\"rmsprop\",\n",
    "              loss=\"mean_squared_error\",\n",
    "              metrics=[\"accuracy\"])"
   ]
  },
  {
   "cell_type": "code",
   "execution_count": 44,
   "metadata": {
    "id": "7OJUO1L8IIIZ"
   },
   "outputs": [],
   "source": [
    "model.compile(optimizer=keras.optimizers.RMSprop(),\n",
    "              loss=keras.losses.MeanSquaredError(),\n",
    "              metrics=[keras.metrics.BinaryAccuracy()])"
   ]
  },
  {
   "cell_type": "markdown",
   "metadata": {
    "id": "dWLEPEsGIIIZ"
   },
   "source": [
    "### Picking a loss function"
   ]
  },
  {
   "cell_type": "markdown",
   "metadata": {
    "id": "_4GzkLiqIIIZ"
   },
   "source": [
    "### Understanding the fit() method"
   ]
  },
  {
   "cell_type": "markdown",
   "metadata": {
    "id": "27HAj7uhIIIb"
   },
   "source": [
    "**Calling `fit()` with NumPy data**"
   ]
  },
  {
   "cell_type": "code",
   "execution_count": 54,
   "metadata": {
    "colab": {
     "base_uri": "https://localhost:8080/"
    },
    "id": "KxldJ0-gIIIb",
    "outputId": "a17db750-d268-45fc-e87e-e9ff5b85746e"
   },
   "outputs": [
    {
     "name": "stdout",
     "output_type": "stream",
     "text": [
      "Epoch 1/55\n",
      "16/16 [==============================] - 0s 3ms/step - loss: 2.1595 - binary_accuracy: 0.2995\n",
      "Epoch 2/55\n",
      "16/16 [==============================] - 0s 2ms/step - loss: 2.0305 - binary_accuracy: 0.3015\n",
      "Epoch 3/55\n",
      "16/16 [==============================] - 0s 2ms/step - loss: 1.9063 - binary_accuracy: 0.3050\n",
      "Epoch 4/55\n",
      "16/16 [==============================] - 0s 2ms/step - loss: 1.7863 - binary_accuracy: 0.3115\n",
      "Epoch 5/55\n",
      "16/16 [==============================] - 0s 2ms/step - loss: 1.6709 - binary_accuracy: 0.3095\n",
      "Epoch 6/55\n",
      "16/16 [==============================] - 0s 2ms/step - loss: 1.5600 - binary_accuracy: 0.3160\n",
      "Epoch 7/55\n",
      "16/16 [==============================] - 0s 2ms/step - loss: 1.4535 - binary_accuracy: 0.3205\n",
      "Epoch 8/55\n",
      "16/16 [==============================] - 0s 2ms/step - loss: 1.3494 - binary_accuracy: 0.3240\n",
      "Epoch 9/55\n",
      "16/16 [==============================] - 0s 3ms/step - loss: 1.2511 - binary_accuracy: 0.3290\n",
      "Epoch 10/55\n",
      "16/16 [==============================] - 0s 2ms/step - loss: 1.1577 - binary_accuracy: 0.3380\n",
      "Epoch 11/55\n",
      "16/16 [==============================] - 0s 2ms/step - loss: 1.0680 - binary_accuracy: 0.3470\n",
      "Epoch 12/55\n",
      "16/16 [==============================] - 0s 4ms/step - loss: 0.9822 - binary_accuracy: 0.3555\n",
      "Epoch 13/55\n",
      "16/16 [==============================] - 0s 8ms/step - loss: 0.9009 - binary_accuracy: 0.3660\n",
      "Epoch 14/55\n",
      "16/16 [==============================] - 0s 7ms/step - loss: 0.8237 - binary_accuracy: 0.3790\n",
      "Epoch 15/55\n",
      "16/16 [==============================] - 0s 4ms/step - loss: 0.7506 - binary_accuracy: 0.3940\n",
      "Epoch 16/55\n",
      "16/16 [==============================] - 0s 4ms/step - loss: 0.6826 - binary_accuracy: 0.4140\n",
      "Epoch 17/55\n",
      "16/16 [==============================] - 0s 5ms/step - loss: 0.6182 - binary_accuracy: 0.4350\n",
      "Epoch 18/55\n",
      "16/16 [==============================] - 0s 3ms/step - loss: 0.5580 - binary_accuracy: 0.4540\n",
      "Epoch 19/55\n",
      "16/16 [==============================] - 0s 3ms/step - loss: 0.5021 - binary_accuracy: 0.4755\n",
      "Epoch 20/55\n",
      "16/16 [==============================] - 0s 2ms/step - loss: 0.4500 - binary_accuracy: 0.5040\n",
      "Epoch 21/55\n",
      "16/16 [==============================] - 0s 3ms/step - loss: 0.4028 - binary_accuracy: 0.5320\n",
      "Epoch 22/55\n",
      "16/16 [==============================] - 0s 4ms/step - loss: 0.3596 - binary_accuracy: 0.5640\n",
      "Epoch 23/55\n",
      "16/16 [==============================] - 0s 3ms/step - loss: 0.3200 - binary_accuracy: 0.5980\n",
      "Epoch 24/55\n",
      "16/16 [==============================] - 0s 2ms/step - loss: 0.2850 - binary_accuracy: 0.6355\n",
      "Epoch 25/55\n",
      "16/16 [==============================] - 0s 2ms/step - loss: 0.2542 - binary_accuracy: 0.6750\n",
      "Epoch 26/55\n",
      "16/16 [==============================] - 0s 3ms/step - loss: 0.2266 - binary_accuracy: 0.7085\n",
      "Epoch 27/55\n",
      "16/16 [==============================] - 0s 2ms/step - loss: 0.2030 - binary_accuracy: 0.7380\n",
      "Epoch 28/55\n",
      "16/16 [==============================] - 0s 2ms/step - loss: 0.1830 - binary_accuracy: 0.7645\n",
      "Epoch 29/55\n",
      "16/16 [==============================] - 0s 2ms/step - loss: 0.1659 - binary_accuracy: 0.7955\n",
      "Epoch 30/55\n",
      "16/16 [==============================] - 0s 2ms/step - loss: 0.1507 - binary_accuracy: 0.8230\n",
      "Epoch 31/55\n",
      "16/16 [==============================] - 0s 2ms/step - loss: 0.1372 - binary_accuracy: 0.8480\n",
      "Epoch 32/55\n",
      "16/16 [==============================] - 0s 2ms/step - loss: 0.1250 - binary_accuracy: 0.8615\n",
      "Epoch 33/55\n",
      "16/16 [==============================] - 0s 2ms/step - loss: 0.1141 - binary_accuracy: 0.8790\n",
      "Epoch 34/55\n",
      "16/16 [==============================] - 0s 2ms/step - loss: 0.1045 - binary_accuracy: 0.8955\n",
      "Epoch 35/55\n",
      "16/16 [==============================] - 0s 2ms/step - loss: 0.0963 - binary_accuracy: 0.9145\n",
      "Epoch 36/55\n",
      "16/16 [==============================] - 0s 2ms/step - loss: 0.0894 - binary_accuracy: 0.9265\n",
      "Epoch 37/55\n",
      "16/16 [==============================] - 0s 3ms/step - loss: 0.0838 - binary_accuracy: 0.9360\n",
      "Epoch 38/55\n",
      "16/16 [==============================] - 0s 2ms/step - loss: 0.0791 - binary_accuracy: 0.9395\n",
      "Epoch 39/55\n",
      "16/16 [==============================] - 0s 2ms/step - loss: 0.0752 - binary_accuracy: 0.9460\n",
      "Epoch 40/55\n",
      "16/16 [==============================] - 0s 3ms/step - loss: 0.0717 - binary_accuracy: 0.9515\n",
      "Epoch 41/55\n",
      "16/16 [==============================] - 0s 2ms/step - loss: 0.0685 - binary_accuracy: 0.9555\n",
      "Epoch 42/55\n",
      "16/16 [==============================] - 0s 2ms/step - loss: 0.0654 - binary_accuracy: 0.9605\n",
      "Epoch 43/55\n",
      "16/16 [==============================] - 0s 3ms/step - loss: 0.0625 - binary_accuracy: 0.9650\n",
      "Epoch 44/55\n",
      "16/16 [==============================] - 0s 3ms/step - loss: 0.0597 - binary_accuracy: 0.9675\n",
      "Epoch 45/55\n",
      "16/16 [==============================] - 0s 3ms/step - loss: 0.0569 - binary_accuracy: 0.9695\n",
      "Epoch 46/55\n",
      "16/16 [==============================] - 0s 3ms/step - loss: 0.0543 - binary_accuracy: 0.9710\n",
      "Epoch 47/55\n",
      "16/16 [==============================] - 0s 2ms/step - loss: 0.0518 - binary_accuracy: 0.9740\n",
      "Epoch 48/55\n",
      "16/16 [==============================] - 0s 2ms/step - loss: 0.0495 - binary_accuracy: 0.9770\n",
      "Epoch 49/55\n",
      "16/16 [==============================] - 0s 2ms/step - loss: 0.0472 - binary_accuracy: 0.9805\n",
      "Epoch 50/55\n",
      "16/16 [==============================] - 0s 2ms/step - loss: 0.0451 - binary_accuracy: 0.9830\n",
      "Epoch 51/55\n",
      "16/16 [==============================] - 0s 2ms/step - loss: 0.0431 - binary_accuracy: 0.9860\n",
      "Epoch 52/55\n",
      "16/16 [==============================] - 0s 2ms/step - loss: 0.0411 - binary_accuracy: 0.9865\n",
      "Epoch 53/55\n",
      "16/16 [==============================] - 0s 4ms/step - loss: 0.0393 - binary_accuracy: 0.9890\n",
      "Epoch 54/55\n",
      "16/16 [==============================] - 0s 3ms/step - loss: 0.0376 - binary_accuracy: 0.9905\n",
      "Epoch 55/55\n",
      "16/16 [==============================] - 0s 6ms/step - loss: 0.0360 - binary_accuracy: 0.9935\n"
     ]
    }
   ],
   "source": [
    "history = model.fit(\n",
    "    inputs,\n",
    "    targets,\n",
    "    epochs=55,\n",
    "    batch_size=128\n",
    ")"
   ]
  },
  {
   "cell_type": "code",
   "execution_count": 55,
   "metadata": {
    "colab": {
     "base_uri": "https://localhost:8080/"
    },
    "id": "aTtFI4dgIIIb",
    "outputId": "e34ae3cf-8b15-4063-e500-5ad06c9979a3"
   },
   "outputs": [
    {
     "data": {
      "text/plain": [
       "{'loss': [2.1594760417938232,\n",
       "  2.030463457107544,\n",
       "  1.9062608480453491,\n",
       "  1.7862752676010132,\n",
       "  1.6709306240081787,\n",
       "  1.5599650144577026,\n",
       "  1.4535400867462158,\n",
       "  1.3493964672088623,\n",
       "  1.251136302947998,\n",
       "  1.1577328443527222,\n",
       "  1.0679935216903687,\n",
       "  0.9821935296058655,\n",
       "  0.9009076952934265,\n",
       "  0.8237124681472778,\n",
       "  0.7506288886070251,\n",
       "  0.6825631856918335,\n",
       "  0.618187427520752,\n",
       "  0.5580447912216187,\n",
       "  0.5021182894706726,\n",
       "  0.4499587416648865,\n",
       "  0.4028379023075104,\n",
       "  0.3596005439758301,\n",
       "  0.3200051188468933,\n",
       "  0.28498703241348267,\n",
       "  0.25421378016471863,\n",
       "  0.22656689584255219,\n",
       "  0.20302289724349976,\n",
       "  0.1829858422279358,\n",
       "  0.16585804522037506,\n",
       "  0.15071097016334534,\n",
       "  0.1372319608926773,\n",
       "  0.12495489418506622,\n",
       "  0.11407497525215149,\n",
       "  0.10452838987112045,\n",
       "  0.09626942127943039,\n",
       "  0.08941063284873962,\n",
       "  0.08375997841358185,\n",
       "  0.07909134775400162,\n",
       "  0.07519213110208511,\n",
       "  0.07167676091194153,\n",
       "  0.06848560273647308,\n",
       "  0.06542298197746277,\n",
       "  0.06250006705522537,\n",
       "  0.059667568653821945,\n",
       "  0.05692853033542633,\n",
       "  0.05433478206396103,\n",
       "  0.0518212653696537,\n",
       "  0.04946284741163254,\n",
       "  0.047225482761859894,\n",
       "  0.0451379120349884,\n",
       "  0.04312237352132797,\n",
       "  0.04109853506088257,\n",
       "  0.039274223148822784,\n",
       "  0.037566859275102615,\n",
       "  0.03603533282876015],\n",
       " 'binary_accuracy': [0.2994999885559082,\n",
       "  0.30149999260902405,\n",
       "  0.3050000071525574,\n",
       "  0.31150001287460327,\n",
       "  0.3095000088214874,\n",
       "  0.3160000145435333,\n",
       "  0.320499986410141,\n",
       "  0.3240000009536743,\n",
       "  0.32899999618530273,\n",
       "  0.33799999952316284,\n",
       "  0.34700000286102295,\n",
       "  0.3555000126361847,\n",
       "  0.3659999966621399,\n",
       "  0.3790000081062317,\n",
       "  0.39399999380111694,\n",
       "  0.414000004529953,\n",
       "  0.4350000023841858,\n",
       "  0.45399999618530273,\n",
       "  0.4754999876022339,\n",
       "  0.5040000081062317,\n",
       "  0.5320000052452087,\n",
       "  0.5640000104904175,\n",
       "  0.5979999899864197,\n",
       "  0.6355000138282776,\n",
       "  0.675000011920929,\n",
       "  0.7085000276565552,\n",
       "  0.7379999756813049,\n",
       "  0.7645000219345093,\n",
       "  0.7954999804496765,\n",
       "  0.8230000138282776,\n",
       "  0.8479999899864197,\n",
       "  0.8615000247955322,\n",
       "  0.8790000081062317,\n",
       "  0.8955000042915344,\n",
       "  0.9144999980926514,\n",
       "  0.9265000224113464,\n",
       "  0.9359999895095825,\n",
       "  0.9394999742507935,\n",
       "  0.9459999799728394,\n",
       "  0.9514999985694885,\n",
       "  0.9555000066757202,\n",
       "  0.9605000019073486,\n",
       "  0.9649999737739563,\n",
       "  0.9674999713897705,\n",
       "  0.9695000052452087,\n",
       "  0.9710000157356262,\n",
       "  0.9739999771118164,\n",
       "  0.9769999980926514,\n",
       "  0.9804999828338623,\n",
       "  0.9829999804496765,\n",
       "  0.9860000014305115,\n",
       "  0.9865000247955322,\n",
       "  0.9890000224113464,\n",
       "  0.9904999732971191,\n",
       "  0.9934999942779541]}"
      ]
     },
     "execution_count": 55,
     "metadata": {},
     "output_type": "execute_result"
    }
   ],
   "source": [
    "history.history"
   ]
  },
  {
   "cell_type": "markdown",
   "metadata": {
    "id": "eGG7C6dOIIIb"
   },
   "source": [
    "### Monitoring loss and metrics on validation data"
   ]
  },
  {
   "cell_type": "markdown",
   "metadata": {
    "id": "AETBUdXmIIIc"
   },
   "source": [
    "**Using the `validation_data` argument**"
   ]
  },
  {
   "cell_type": "code",
   "execution_count": 56,
   "metadata": {
    "colab": {
     "base_uri": "https://localhost:8080/"
    },
    "id": "Cgs3Ne5AIIIc",
    "outputId": "61e80eac-ce54-43a2-ab7b-e7714571ab94"
   },
   "outputs": [
    {
     "name": "stdout",
     "output_type": "stream",
     "text": [
      "Epoch 1/5\n",
      "88/88 [==============================] - 0s 2ms/step - loss: 0.1875 - binary_accuracy: 0.9743 - val_loss: 0.0593 - val_binary_accuracy: 0.9717\n",
      "Epoch 2/5\n",
      "88/88 [==============================] - 0s 2ms/step - loss: 0.0741 - binary_accuracy: 0.9514 - val_loss: 0.0597 - val_binary_accuracy: 0.9683\n",
      "Epoch 3/5\n",
      "88/88 [==============================] - 0s 1ms/step - loss: 0.0692 - binary_accuracy: 0.9607 - val_loss: 0.0671 - val_binary_accuracy: 0.9567\n",
      "Epoch 4/5\n",
      "88/88 [==============================] - 0s 1ms/step - loss: 0.0759 - binary_accuracy: 0.9521 - val_loss: 0.0597 - val_binary_accuracy: 0.9700\n",
      "Epoch 5/5\n",
      "88/88 [==============================] - 0s 2ms/step - loss: 0.0712 - binary_accuracy: 0.9529 - val_loss: 0.0239 - val_binary_accuracy: 1.0000\n"
     ]
    },
    {
     "data": {
      "text/plain": [
       "<keras.callbacks.History at 0x7fb61302a490>"
      ]
     },
     "execution_count": 56,
     "metadata": {},
     "output_type": "execute_result"
    }
   ],
   "source": [
    "model = keras.Sequential([keras.layers.Dense(1)])\n",
    "model.compile(optimizer=keras.optimizers.RMSprop(learning_rate=0.1),\n",
    "              loss=keras.losses.MeanSquaredError(),\n",
    "              metrics=[keras.metrics.BinaryAccuracy()])\n",
    "\n",
    "indices_permutation = np.random.permutation(len(inputs))\n",
    "shuffled_inputs = inputs[indices_permutation]\n",
    "shuffled_targets = targets[indices_permutation]\n",
    "\n",
    "num_validation_samples = int(0.3 * len(inputs))\n",
    "val_inputs = shuffled_inputs[:num_validation_samples]\n",
    "val_targets = shuffled_targets[:num_validation_samples]\n",
    "training_inputs = shuffled_inputs[num_validation_samples:]\n",
    "training_targets = shuffled_targets[num_validation_samples:]\n",
    "model.fit(\n",
    "    training_inputs,\n",
    "    training_targets,\n",
    "    epochs=5,\n",
    "    batch_size=16,\n",
    "    validation_data=(val_inputs, val_targets)\n",
    ")"
   ]
  },
  {
   "cell_type": "markdown",
   "metadata": {
    "id": "hZSmcQLtIIIc"
   },
   "source": [
    "### Inference: Using a model after training"
   ]
  },
  {
   "cell_type": "code",
   "execution_count": 63,
   "metadata": {
    "colab": {
     "base_uri": "https://localhost:8080/"
    },
    "id": "rCiCApcdIIIc",
    "outputId": "87f51d1e-929a-4099-b198-5289db2eacd6"
   },
   "outputs": [
    {
     "name": "stdout",
     "output_type": "stream",
     "text": [
      "5/5 [==============================] - 0s 2ms/step\n",
      "[[ 0.10424334]\n",
      " [ 0.05714869]\n",
      " [ 1.082906  ]\n",
      " [ 0.8855481 ]\n",
      " [ 0.7905377 ]\n",
      " [-0.08637595]\n",
      " [ 1.5063617 ]\n",
      " [ 0.9268433 ]\n",
      " [-0.03463662]\n",
      " [ 0.141931  ]]\n",
      "[[ True]\n",
      " [ True]\n",
      " [ True]\n",
      " [ True]\n",
      " [ True]\n",
      " [ True]\n",
      " [ True]\n",
      " [ True]\n",
      " [ True]\n",
      " [ True]]\n"
     ]
    }
   ],
   "source": [
    "predictions = model.predict(val_inputs, batch_size=128)\n",
    "print(predictions[:10])\n",
    "print(( predictions[:10] > 0.5) == (val_targets[:10] == 1))\n",
    "\n"
   ]
  },
  {
   "cell_type": "markdown",
   "metadata": {
    "id": "DuDAp_UNIIIc"
   },
   "source": [
    "## Summary"
   ]
  }
 ],
 "metadata": {
  "colab": {
   "collapsed_sections": [],
   "include_colab_link": true,
   "name": "chapter03_introduction-to-keras-and-tf.i",
   "provenance": [],
   "toc_visible": true
  },
  "kernelspec": {
   "display_name": "Python 3 (ipykernel)",
   "language": "python",
   "name": "python3"
  },
  "language_info": {
   "codemirror_mode": {
    "name": "ipython",
    "version": 3
   },
   "file_extension": ".py",
   "mimetype": "text/x-python",
   "name": "python",
   "nbconvert_exporter": "python",
   "pygments_lexer": "ipython3",
   "version": "3.9.13"
  }
 },
 "nbformat": 4,
 "nbformat_minor": 4
}
