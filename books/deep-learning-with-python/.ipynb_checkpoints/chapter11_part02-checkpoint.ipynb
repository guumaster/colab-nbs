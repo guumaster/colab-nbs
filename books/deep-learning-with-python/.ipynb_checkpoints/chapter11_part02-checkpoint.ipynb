{
 "cells": [
  {
   "cell_type": "markdown",
   "id": "de0d104a-fd87-4881-8efd-9a80f5d01804",
   "metadata": {
    "colab_type": "text",
    "id": "view-in-github"
   },
   "source": [
    "<a href=\"https://colab.research.google.com/github/guumaster/colab-nbs/blob/master/books/deep-learning-with-python-notebooks/chapter11_part01_introduction.ipynb\" target=\"_parent\"><img src=\"https://colab.research.google.com/assets/colab-badge.svg\" alt=\"Open In Colab\"/></a>"
   ]
  },
  {
   "cell_type": "markdown",
   "id": "e8bf804e-3726-4a08-b8e3-9d2575a84dc3",
   "metadata": {
    "tags": []
   },
   "source": [
    "## Sequence Models"
   ]
  },
  {
   "cell_type": "markdown",
   "id": "ff072674-0197-49be-a0fe-155bfd0afa7c",
   "metadata": {
    "id": "aa0aAs6SlFT4"
   },
   "source": [
    "## Preparing the IMDB movie reviews data "
   ]
  },
  {
   "cell_type": "code",
   "execution_count": null,
   "id": "dd26475f-e4b8-4653-aff8-37f8a6f8388c",
   "metadata": {
    "colab": {
     "base_uri": "https://localhost:8080/"
    },
    "id": "8VhDQTgbkxH5",
    "outputId": "de655aea-1f78-4b76-97ab-ff0a55bce420"
   },
   "outputs": [],
   "source": [
    "!curl -O https://ai.stanford.edu/~amaas/data/sentiment/aclImdb_v1.tar.gz\n",
    "!tar -xf aclImdb_v1.tar.gz\n",
    "!rm -r aclImdb/train/unsup\n",
    "!cat aclImdb/train/pos/4077_10.txt\n"
   ]
  },
  {
   "cell_type": "code",
   "execution_count": 1,
   "id": "35af078b-1fca-474d-808b-e31d096c3d3c",
   "metadata": {
    "id": "c9Q7UwE7lJSW"
   },
   "outputs": [],
   "source": [
    "import os, pathlib, shutil, random\n",
    "\n",
    "base_dir = pathlib.Path(\"aclImdb\")\n",
    "val_dir = base_dir / \"val\"\n",
    "train_dir = base_dir / \"train\"\n",
    "for category in (\"neg\", \"pos\"):\n",
    "    os.makedirs(val_dir / category, exist_ok=True)\n",
    "    files = os.listdir(train_dir / category)\n",
    "    random.Random(1337).shuffle(files)\n",
    "    num_val_samples = int(0.2 * len(files))\n",
    "    val_files = files[-num_val_samples:]\n",
    "    for fname in val_files:\n",
    "        shutil.move(train_dir / category / fname,\n",
    "                    val_dir / category / fname)"
   ]
  },
  {
   "cell_type": "markdown",
   "id": "ff723a2a-c7bc-4bfc-a9a7-97820961f8bc",
   "metadata": {
    "id": "r1YLArofp7Bd"
   },
   "source": [
    "### Preparing integer sequence datasets"
   ]
  },
  {
   "cell_type": "code",
   "execution_count": null,
   "id": "92e7d6fa-f5f7-4a65-82f4-a4f7951c8c71",
   "metadata": {
    "id": "8MPcSUxpmHyl"
   },
   "outputs": [],
   "source": [
    "from tensorflow import keras\n",
    "from tensorflow.keras import layers\n"
   ]
  },
  {
   "cell_type": "code",
   "execution_count": 3,
   "id": "a042b3e8-0742-41e5-88d8-9441b83e2f25",
   "metadata": {
    "colab": {
     "base_uri": "https://localhost:8080/"
    },
    "id": "kmIRjVzblKn6",
    "outputId": "6f5667ea-14b5-497a-8c90-cb01b4ce7c95"
   },
   "outputs": [
    {
     "name": "stdout",
     "output_type": "stream",
     "text": [
      "Found 25000 files belonging to 2 classes.\n"
     ]
    }
   ],
   "source": [
    "batch_size=32\n",
    "\n",
    "train_ds = keras.utils.text_dataset_from_directory('aclImdb/train', batch_size=batch_size)\n",
    "val_ds = keras.utils.text_dataset_from_directory('aclImdb/val', batch_size=batch_size)\n",
    "test_ds = keras.utils.text_dataset_from_directory('aclImdb/test', batch_size=batch_size)\n",
    "text_only_train_ds = train_ds.map(lambda x, y: x)"
   ]
  },
  {
   "cell_type": "code",
   "execution_count": null,
   "id": "b4fe4c1c-b78e-400f-ade5-1721bec40de5",
   "metadata": {},
   "outputs": [],
   "source": [
    "max_length=600\n",
    "max_tokens=20000\n",
    "\n",
    "text_vectorization = layers.TextVectorization(\n",
    "        max_tokens=max_tokens,\n",
    "        output_mode=\"int\",\n",
    "        output_sequence_length=max_length,\n",
    ")\n",
    "\n",
    "text_vectorization.adapt(text_only_train_ds)\n",
    "\n",
    "int_train_ds = train_ds.map(lambda x,y: (text_vectorization(x), y), num_parallel_calls=6)\n",
    "int_val_ds = val_ds.map(lambda x,y: (text_vectorization(x), y), num_parallel_calls=6)\n",
    "int_test_ds = test_ds.map(lambda x,y: (text_vectorization(x), y), num_parallel_calls=6)"
   ]
  },
  {
   "cell_type": "markdown",
   "id": "d4fc2db1-6beb-48ce-ac86-3fd101c6f35d",
   "metadata": {},
   "source": [
    "### A sequence model built on one-hot encoded vector sequences"
   ]
  },
  {
   "cell_type": "code",
   "execution_count": null,
   "id": "74b8ce90-496f-49a1-b984-20445dbaf06c",
   "metadata": {},
   "outputs": [],
   "source": [
    "import tensorflow as tf\n",
    "inputs = keras.Input(shape=(None,), dtype=\"int64\")\n",
    "embedded = tf.one_hot(inputs, depth=max_tokens)\n",
    "\n",
    "x = layers.Bidirectional(layers.LSTM(32))(embedded)\n",
    "x = layers.Dropout(0.5)(x)\n",
    "outputs = layers.Dense(1, activation=\"sigmoid\")(x)\n",
    "\n",
    "model = keras.Model(inputs, outputs)\n",
    "model.compile(optimizer=\"rmsprop\", loss=\"binary_crossentropy\", metrics=[\"accuracy\"])\n",
    "\n",
    "model.summary()\n"
   ]
  }
 ],
 "metadata": {
  "kernelspec": {
   "display_name": "Python 3 (ipykernel)",
   "language": "python",
   "name": "python3"
  },
  "language_info": {
   "codemirror_mode": {
    "name": "ipython",
    "version": 3
   },
   "file_extension": ".py",
   "mimetype": "text/x-python",
   "name": "python",
   "nbconvert_exporter": "python",
   "pygments_lexer": "ipython3",
   "version": "3.9.13"
  }
 },
 "nbformat": 4,
 "nbformat_minor": 5
}
